{
 "cells": [
  {
   "cell_type": "code",
   "execution_count": 1,
   "metadata": {},
   "outputs": [],
   "source": [
    "import warnings\n",
    "\n",
    "warnings.filterwarnings('ignore')"
   ]
  },
  {
   "cell_type": "code",
   "execution_count": 2,
   "metadata": {},
   "outputs": [],
   "source": [
    "import datetime\n",
    "import numpy as np\n",
    "import pandas\n",
    "import matplotlib.pyplot as plt\n",
    "from sklearn.ensemble import GradientBoostingClassifier\n",
    "from sklearn.model_selection import cross_val_score\n",
    "from sklearn.model_selection import KFold\n",
    "from sklearn.linear_model import LogisticRegression\n",
    "from sklearn.preprocessing import StandardScaler"
   ]
  },
  {
   "cell_type": "code",
   "execution_count": 3,
   "metadata": {},
   "outputs": [
    {
     "data": {
      "text/plain": [
       "97230"
      ]
     },
     "execution_count": 3,
     "metadata": {},
     "output_type": "execute_result"
    }
   ],
   "source": [
    "data = pandas.read_csv('features.csv', index_col='match_id')\n",
    "len(data)"
   ]
  },
  {
   "cell_type": "markdown",
   "metadata": {},
   "source": [
    "Подход 1: градиентный бустинг \"в лоб\""
   ]
  },
  {
   "cell_type": "code",
   "execution_count": 4,
   "metadata": {},
   "outputs": [
    {
     "data": {
      "text/html": [
       "<div>\n",
       "<style scoped>\n",
       "    .dataframe tbody tr th:only-of-type {\n",
       "        vertical-align: middle;\n",
       "    }\n",
       "\n",
       "    .dataframe tbody tr th {\n",
       "        vertical-align: top;\n",
       "    }\n",
       "\n",
       "    .dataframe thead th {\n",
       "        text-align: right;\n",
       "    }\n",
       "</style>\n",
       "<table border=\"1\" class=\"dataframe\">\n",
       "  <thead>\n",
       "    <tr style=\"text-align: right;\">\n",
       "      <th></th>\n",
       "      <th>nulls</th>\n",
       "    </tr>\n",
       "  </thead>\n",
       "  <tbody>\n",
       "    <tr>\n",
       "      <th>first_blood_player2</th>\n",
       "      <td>43987</td>\n",
       "    </tr>\n",
       "    <tr>\n",
       "      <th>radiant_flying_courier_time</th>\n",
       "      <td>27479</td>\n",
       "    </tr>\n",
       "    <tr>\n",
       "      <th>dire_flying_courier_time</th>\n",
       "      <td>26098</td>\n",
       "    </tr>\n",
       "    <tr>\n",
       "      <th>first_blood_time</th>\n",
       "      <td>19553</td>\n",
       "    </tr>\n",
       "    <tr>\n",
       "      <th>first_blood_player1</th>\n",
       "      <td>19553</td>\n",
       "    </tr>\n",
       "    <tr>\n",
       "      <th>first_blood_team</th>\n",
       "      <td>19553</td>\n",
       "    </tr>\n",
       "    <tr>\n",
       "      <th>dire_bottle_time</th>\n",
       "      <td>16143</td>\n",
       "    </tr>\n",
       "    <tr>\n",
       "      <th>radiant_bottle_time</th>\n",
       "      <td>15691</td>\n",
       "    </tr>\n",
       "    <tr>\n",
       "      <th>radiant_first_ward_time</th>\n",
       "      <td>1836</td>\n",
       "    </tr>\n",
       "    <tr>\n",
       "      <th>dire_first_ward_time</th>\n",
       "      <td>1826</td>\n",
       "    </tr>\n",
       "  </tbody>\n",
       "</table>\n",
       "</div>"
      ],
      "text/plain": [
       "                             nulls\n",
       "first_blood_player2          43987\n",
       "radiant_flying_courier_time  27479\n",
       "dire_flying_courier_time     26098\n",
       "first_blood_time             19553\n",
       "first_blood_player1          19553\n",
       "first_blood_team             19553\n",
       "dire_bottle_time             16143\n",
       "radiant_bottle_time          15691\n",
       "radiant_first_ward_time       1836\n",
       "dire_first_ward_time          1826"
      ]
     },
     "execution_count": 4,
     "metadata": {},
     "output_type": "execute_result"
    }
   ],
   "source": [
    "data = pandas.read_csv('features.csv', index_col='match_id')\n",
    "data.isna().sum().to_frame('nulls').sort_values(by='nulls', ascending=False).head(10)"
   ]
  },
  {
   "cell_type": "markdown",
   "metadata": {},
   "source": [
    "1) Больше всего пропусков в признаках:\n",
    "first_blood_player2 - 43987 пропусков, может объясняться тем, что к событию \"первая кровь\" часто причастен только один игрок, соответственно, признак для второго игрока часто будет пустым;\n",
    "radiant_flying_courier_time\t- 27479 пропусков, может объясняться тем, что команда в рассматриваемое время (первые 5 минут игры) не приобретает предмет \"flying_courier\""
   ]
  },
  {
   "cell_type": "markdown",
   "metadata": {},
   "source": [
    "Удалим признаки, связанные с итогом матча:"
   ]
  },
  {
   "cell_type": "code",
   "execution_count": 5,
   "metadata": {},
   "outputs": [],
   "source": [
    "X_train = data.drop(\n",
    "    ['duration', 'tower_status_radiant', 'tower_status_dire',\n",
    "     'barracks_status_radiant', 'barracks_status_dire', 'radiant_win'], axis=1)\n",
    "y_train = data.radiant_win"
   ]
  },
  {
   "cell_type": "markdown",
   "metadata": {},
   "source": [
    "2) Целевая переменная - radiant_win"
   ]
  },
  {
   "cell_type": "code",
   "execution_count": 6,
   "metadata": {},
   "outputs": [],
   "source": [
    "X_train = X_train.fillna(0)\n",
    "\n",
    "cv = KFold(n_splits=5, shuffle=True, random_state=241)"
   ]
  },
  {
   "cell_type": "code",
   "execution_count": 9,
   "metadata": {},
   "outputs": [],
   "source": [
    "def start_gradient_boosting(x_in):\n",
    "    est_nums = [10, 20, 30, 50, 100, 250]\n",
    "    means = []\n",
    "\n",
    "    for estimators_number in est_nums:\n",
    "        print('\\nestimators_number =', estimators_number)\n",
    "\n",
    "        clf = GradientBoostingClassifier(n_estimators=estimators_number, random_state=241)\n",
    "\n",
    "        start_time = datetime.datetime.now()\n",
    "        score = cross_val_score(clf, x_in, y, cv=cv, scoring='roc_auc', n_jobs=-1)\n",
    "        finish_time = datetime.datetime.now() - start_time\n",
    "\n",
    "        mean = np.mean(score)\n",
    "        means.append(mean)\n",
    "\n",
    "        print('score =', score)\n",
    "        print('mean =', mean)\n",
    "        print('time =', finish_time)\n",
    "\n",
    "    return est_nums, means"
   ]
  },
  {
   "cell_type": "code",
   "execution_count": 10,
   "metadata": {},
   "outputs": [
    {
     "name": "stdout",
     "output_type": "stream",
     "text": [
      "\n",
      "estimators_number = 10\n"
     ]
    },
    {
     "ename": "NameError",
     "evalue": "name 'y' is not defined",
     "output_type": "error",
     "traceback": [
      "\u001b[0;31m---------------------------------------------------------------------------\u001b[0m",
      "\u001b[0;31mNameError\u001b[0m                                 Traceback (most recent call last)",
      "\u001b[0;32m<ipython-input-10-0906fb3b5cbc>\u001b[0m in \u001b[0;36m<module>\u001b[0;34m\u001b[0m\n\u001b[0;32m----> 1\u001b[0;31m \u001b[0mnums\u001b[0m\u001b[0;34m,\u001b[0m \u001b[0mscores\u001b[0m \u001b[0;34m=\u001b[0m \u001b[0mstart_gradient_boosting\u001b[0m\u001b[0;34m(\u001b[0m\u001b[0mX_train\u001b[0m\u001b[0;34m)\u001b[0m\u001b[0;34m\u001b[0m\u001b[0;34m\u001b[0m\u001b[0m\n\u001b[0m",
      "\u001b[0;32m<ipython-input-9-abda58af4748>\u001b[0m in \u001b[0;36mstart_gradient_boosting\u001b[0;34m(x_in)\u001b[0m\n\u001b[1;32m      9\u001b[0m \u001b[0;34m\u001b[0m\u001b[0m\n\u001b[1;32m     10\u001b[0m         \u001b[0mstart_time\u001b[0m \u001b[0;34m=\u001b[0m \u001b[0mdatetime\u001b[0m\u001b[0;34m.\u001b[0m\u001b[0mdatetime\u001b[0m\u001b[0;34m.\u001b[0m\u001b[0mnow\u001b[0m\u001b[0;34m(\u001b[0m\u001b[0;34m)\u001b[0m\u001b[0;34m\u001b[0m\u001b[0;34m\u001b[0m\u001b[0m\n\u001b[0;32m---> 11\u001b[0;31m         \u001b[0mscore\u001b[0m \u001b[0;34m=\u001b[0m \u001b[0mcross_val_score\u001b[0m\u001b[0;34m(\u001b[0m\u001b[0mclf\u001b[0m\u001b[0;34m,\u001b[0m \u001b[0mx_in\u001b[0m\u001b[0;34m,\u001b[0m \u001b[0my\u001b[0m\u001b[0;34m,\u001b[0m \u001b[0mcv\u001b[0m\u001b[0;34m=\u001b[0m\u001b[0mcv\u001b[0m\u001b[0;34m,\u001b[0m \u001b[0mscoring\u001b[0m\u001b[0;34m=\u001b[0m\u001b[0;34m'roc_auc'\u001b[0m\u001b[0;34m,\u001b[0m \u001b[0mn_jobs\u001b[0m\u001b[0;34m=\u001b[0m\u001b[0;34m-\u001b[0m\u001b[0;36m1\u001b[0m\u001b[0;34m)\u001b[0m\u001b[0;34m\u001b[0m\u001b[0;34m\u001b[0m\u001b[0m\n\u001b[0m\u001b[1;32m     12\u001b[0m         \u001b[0mfinish_time\u001b[0m \u001b[0;34m=\u001b[0m \u001b[0mdatetime\u001b[0m\u001b[0;34m.\u001b[0m\u001b[0mdatetime\u001b[0m\u001b[0;34m.\u001b[0m\u001b[0mnow\u001b[0m\u001b[0;34m(\u001b[0m\u001b[0;34m)\u001b[0m \u001b[0;34m-\u001b[0m \u001b[0mstart_time\u001b[0m\u001b[0;34m\u001b[0m\u001b[0;34m\u001b[0m\u001b[0m\n\u001b[1;32m     13\u001b[0m \u001b[0;34m\u001b[0m\u001b[0m\n",
      "\u001b[0;31mNameError\u001b[0m: name 'y' is not defined"
     ]
    }
   ],
   "source": [
    "nums, scores = start_gradient_boosting(X_train)"
   ]
  },
  {
   "cell_type": "markdown",
   "metadata": {},
   "source": [
    "Для градиентного бустинга с 30-ю деревьями кросс-валидация проводилась 1 мин. 32 сек. \n",
    "При этом среднее значение метрики AUC-ROC составило ~0.69.\n",
    "Имеет смысл использовать больше 30 деревьев, так как с увелечением количества деревьев увеличиваются значения метрики AUC-ROC. Однако, с увеличением числа деревьев, увеличивается и время выполнения бустинга. \n",
    "Чтобы ускорить обучение, можно:\n",
    "1) использовать для обучения и кросс-валидации не всю выборку, а некоторое ее подмножество, которое лучше всего брать случайным\n",
    "2) уменьшить глубину деревьев в градиентом бустинге "
   ]
  },
  {
   "cell_type": "markdown",
   "metadata": {},
   "source": [
    "Подход 2: логистическая регрессия"
   ]
  },
  {
   "cell_type": "code",
   "execution_count": 13,
   "metadata": {},
   "outputs": [],
   "source": [
    "def start_logistic_regression(x_in):\n",
    "    powers = np.power(10.0, np.arange(-5, 6))\n",
    "    means = []\n",
    "\n",
    "    for c in powers:\n",
    "        print('\\nC =', c)\n",
    "\n",
    "        clf = LogisticRegression(C=c, random_state=241, n_jobs=-1)\n",
    "\n",
    "        start_time = datetime.datetime.now()\n",
    "        score = cross_val_score(clf, x_in, y, cv=cv, scoring='roc_auc', n_jobs=-1)\n",
    "        finish_time = datetime.datetime.now() - start_time\n",
    "\n",
    "        mean = np.mean(score)\n",
    "        means.append(mean)\n",
    "\n",
    "        print('score =', score)\n",
    "        print('mean =', mean)\n",
    "        print('time =', finish_time)\n",
    "\n",
    "    return powers, means"
   ]
  },
  {
   "cell_type": "code",
   "execution_count": 14,
   "metadata": {},
   "outputs": [],
   "source": [
    "scaler = StandardScaler()"
   ]
  },
  {
   "cell_type": "code",
   "execution_count": 15,
   "metadata": {},
   "outputs": [],
   "source": [
    "scale_x = scaler.fit_transform(X_train)"
   ]
  },
  {
   "cell_type": "code",
   "execution_count": 16,
   "metadata": {},
   "outputs": [
    {
     "name": "stdout",
     "output_type": "stream",
     "text": [
      "\n",
      "C = 1e-05\n",
      "score = [0.69959206 0.69159358 0.69419291 0.69433159 0.69589176]\n",
      "mean = 0.695120379847076\n",
      "time = 0:00:07.255953\n",
      "\n",
      "C = 0.0001\n",
      "score = [0.7161759  0.7083769  0.70960313 0.71017245 0.71192219]\n",
      "mean = 0.7112501143920594\n",
      "time = 0:00:06.385871\n",
      "\n",
      "C = 0.001\n",
      "score = [0.72134945 0.71368677 0.71425051 0.71512064 0.71649386]\n",
      "mean = 0.7161802463683579\n",
      "time = 0:00:10.667401\n",
      "\n",
      "C = 0.01\n",
      "score = [0.7216634  0.71377395 0.71440813 0.71540233 0.7164595 ]\n",
      "mean = 0.716341462186996\n",
      "time = 0:00:13.926777\n",
      "\n",
      "C = 0.1\n",
      "score = [0.72165841 0.7137031  0.71438941 0.71539496 0.71640454]\n",
      "mean = 0.7163100836533355\n",
      "time = 0:00:15.453311\n",
      "\n",
      "C = 1.0\n",
      "score = [0.72165762 0.71369565 0.71438656 0.71539329 0.7163998 ]\n",
      "mean = 0.716306583645544\n",
      "time = 0:00:15.407122\n",
      "\n",
      "C = 10.0\n",
      "score = [0.72165702 0.7136947  0.71438623 0.71539423 0.71639952]\n",
      "mean = 0.7163063399602339\n",
      "time = 0:00:15.254100\n",
      "\n",
      "C = 100.0\n",
      "score = [0.72165734 0.71369455 0.7143859  0.71539408 0.71639946]\n",
      "mean = 0.7163062657792336\n",
      "time = 0:00:14.922056\n",
      "\n",
      "C = 1000.0\n",
      "score = [0.72165734 0.71369457 0.71438593 0.71539409 0.71639938]\n",
      "mean = 0.7163062636530346\n",
      "time = 0:00:14.939058\n",
      "\n",
      "C = 10000.0\n",
      "score = [0.72165733 0.71369457 0.71438593 0.71539407 0.71639938]\n",
      "mean = 0.7163062572998155\n",
      "time = 0:00:14.595060\n",
      "\n",
      "C = 100000.0\n",
      "score = [0.72165733 0.71369457 0.71438594 0.71539407 0.71639938]\n",
      "mean = 0.7163062594192566\n",
      "time = 0:00:14.419987\n"
     ]
    }
   ],
   "source": [
    "c_parameters, scores = start_logistic_regression(scale_x)"
   ]
  },
  {
   "cell_type": "code",
   "execution_count": 17,
   "metadata": {},
   "outputs": [
    {
     "data": {
      "text/plain": [
       "(0.716341462186996, 0.01)"
      ]
     },
     "execution_count": 17,
     "metadata": {},
     "output_type": "execute_result"
    }
   ],
   "source": [
    "max(zip(scores, c_parameters))"
   ]
  },
  {
   "cell_type": "markdown",
   "metadata": {},
   "source": [
    "Лучшее значение метрики AUC-ROC = 0.716341462186996 при C = 0.01. Это выше чем при градиентном бустинге с 250 деревьявми."
   ]
  },
  {
   "cell_type": "markdown",
   "metadata": {},
   "source": [
    "Удалим категориальные признаки"
   ]
  },
  {
   "cell_type": "code",
   "execution_count": 30,
   "metadata": {},
   "outputs": [],
   "source": [
    "def remove_category_features(x_in):\n",
    "    del_list = ['{}{}_hero'.format(name, val) for val in range(1, 6) for name in ['r', 'd']]\n",
    "    del_list.append('lobby_type')\n",
    "    x = x_in.drop(del_list, axis=1)\n",
    "    return x"
   ]
  },
  {
   "cell_type": "code",
   "execution_count": 54,
   "metadata": {},
   "outputs": [],
   "source": [
    "x_without_category = remove_category_features(X_train)\n",
    "scale_x = scaler.fit_transform(x_without_category)"
   ]
  },
  {
   "cell_type": "code",
   "execution_count": 55,
   "metadata": {},
   "outputs": [
    {
     "name": "stdout",
     "output_type": "stream",
     "text": [
      "\n",
      "C = 1e-05\n",
      "score = [0.69961316 0.69150564 0.69419646 0.69425458 0.69571482]\n",
      "mean = 0.6950569329910983\n",
      "time = 0:00:08.062535\n",
      "\n",
      "C = 0.0001\n",
      "score = [0.71630684 0.70828717 0.70971489 0.71020968 0.71172337]\n",
      "mean = 0.7112483906159718\n",
      "time = 0:00:05.686821\n",
      "\n",
      "C = 0.001\n",
      "score = [0.72152794 0.71360976 0.71445497 0.71521698 0.71636831]\n",
      "mean = 0.7162355910206267\n",
      "time = 0:00:09.725798\n",
      "\n",
      "C = 0.01\n",
      "score = [0.7218164  0.71370124 0.71462628 0.71551614 0.71634469]\n",
      "mean = 0.7164009506527343\n",
      "time = 0:00:12.546238\n",
      "\n",
      "C = 0.1\n",
      "score = [0.72181205 0.7136378  0.7146095  0.71551012 0.71629945]\n",
      "mean = 0.7163737844721111\n",
      "time = 0:00:13.031623\n",
      "\n",
      "C = 1.0\n",
      "score = [0.72181039 0.71363045 0.71460884 0.71551016 0.71629392]\n",
      "mean = 0.7163707526581122\n",
      "time = 0:00:13.151171\n",
      "\n",
      "C = 10.0\n",
      "score = [0.72181043 0.71362965 0.71460893 0.71551033 0.71629306]\n",
      "mean = 0.7163704793048005\n",
      "time = 0:00:13.080345\n",
      "\n",
      "C = 100.0\n",
      "score = [0.72181067 0.71362945 0.71460889 0.71551027 0.71629322]\n",
      "mean = 0.7163704962706652\n",
      "time = 0:00:14.422047\n",
      "\n",
      "C = 1000.0\n",
      "score = [0.72181072 0.71362952 0.71460893 0.71551026 0.71629323]\n",
      "mean = 0.7163705301659757\n",
      "time = 0:00:14.362091\n",
      "\n",
      "C = 10000.0\n",
      "score = [0.72181071 0.71362952 0.71460894 0.71551026 0.71629323]\n",
      "mean = 0.7163705301674705\n",
      "time = 0:00:13.420981\n",
      "\n",
      "C = 100000.0\n",
      "score = [0.7218107  0.71362952 0.71460894 0.71551026 0.71629323]\n",
      "mean = 0.7163705280495243\n",
      "time = 0:00:13.384874\n"
     ]
    }
   ],
   "source": [
    "c_parameters, scores = start_logistic_regression(scale_x)"
   ]
  },
  {
   "cell_type": "code",
   "execution_count": 56,
   "metadata": {},
   "outputs": [
    {
     "data": {
      "text/plain": [
       "(0.7164009506527343, 0.01)"
      ]
     },
     "execution_count": 56,
     "metadata": {},
     "output_type": "execute_result"
    }
   ],
   "source": [
    "max(zip(scores, c_parameters))"
   ]
  },
  {
   "cell_type": "markdown",
   "metadata": {},
   "source": [
    "Удаление категориальных признаков повысило качество классификации. \n",
    "Максимальное значение AUC_ROC - 0.716400950652734, что лучше, чем было без удаления категориальных признаков.\n",
    "Данное значение оценка достигает так же при параметре регуляризации C = 0.01."
   ]
  },
  {
   "cell_type": "markdown",
   "metadata": {},
   "source": [
    "Количество героев в игре"
   ]
  },
  {
   "cell_type": "code",
   "execution_count": 57,
   "metadata": {},
   "outputs": [],
   "source": [
    "heroes = pandas.read_csv('dictionaries/heroes.csv')"
   ]
  },
  {
   "cell_type": "code",
   "execution_count": 58,
   "metadata": {},
   "outputs": [
    {
     "data": {
      "text/html": [
       "<div>\n",
       "<style scoped>\n",
       "    .dataframe tbody tr th:only-of-type {\n",
       "        vertical-align: middle;\n",
       "    }\n",
       "\n",
       "    .dataframe tbody tr th {\n",
       "        vertical-align: top;\n",
       "    }\n",
       "\n",
       "    .dataframe thead th {\n",
       "        text-align: right;\n",
       "    }\n",
       "</style>\n",
       "<table border=\"1\" class=\"dataframe\">\n",
       "  <thead>\n",
       "    <tr style=\"text-align: right;\">\n",
       "      <th></th>\n",
       "      <th>id</th>\n",
       "      <th>localized_name</th>\n",
       "      <th>name</th>\n",
       "    </tr>\n",
       "  </thead>\n",
       "  <tbody>\n",
       "    <tr>\n",
       "      <td>0</td>\n",
       "      <td>1</td>\n",
       "      <td>Anti-Mage</td>\n",
       "      <td>antimage</td>\n",
       "    </tr>\n",
       "    <tr>\n",
       "      <td>1</td>\n",
       "      <td>2</td>\n",
       "      <td>Axe</td>\n",
       "      <td>axe</td>\n",
       "    </tr>\n",
       "    <tr>\n",
       "      <td>2</td>\n",
       "      <td>3</td>\n",
       "      <td>Bane</td>\n",
       "      <td>bane</td>\n",
       "    </tr>\n",
       "    <tr>\n",
       "      <td>3</td>\n",
       "      <td>4</td>\n",
       "      <td>Bloodseeker</td>\n",
       "      <td>bloodseeker</td>\n",
       "    </tr>\n",
       "    <tr>\n",
       "      <td>4</td>\n",
       "      <td>5</td>\n",
       "      <td>Crystal Maiden</td>\n",
       "      <td>crystal_maiden</td>\n",
       "    </tr>\n",
       "  </tbody>\n",
       "</table>\n",
       "</div>"
      ],
      "text/plain": [
       "   id  localized_name            name\n",
       "0   1       Anti-Mage        antimage\n",
       "1   2             Axe             axe\n",
       "2   3            Bane            bane\n",
       "3   4     Bloodseeker     bloodseeker\n",
       "4   5  Crystal Maiden  crystal_maiden"
      ]
     },
     "execution_count": 58,
     "metadata": {},
     "output_type": "execute_result"
    }
   ],
   "source": [
    "heroes.head()"
   ]
  },
  {
   "cell_type": "code",
   "execution_count": 61,
   "metadata": {},
   "outputs": [
    {
     "data": {
      "text/plain": [
       "storm_spirit     1\n",
       "bristleback      1\n",
       "troll_warlord    1\n",
       "faceless_void    1\n",
       "abaddon          1\n",
       "                ..\n",
       "medusa           1\n",
       "windrunner       1\n",
       "skeleton_king    1\n",
       "enigma           1\n",
       "drow_ranger      1\n",
       "Name: name, Length: 112, dtype: int64"
      ]
     },
     "execution_count": 61,
     "metadata": {},
     "output_type": "execute_result"
    }
   ],
   "source": [
    "heroes['name'].value_counts()"
   ]
  },
  {
   "cell_type": "markdown",
   "metadata": {},
   "source": [
    "Всего в игре 112 героев"
   ]
  },
  {
   "cell_type": "markdown",
   "metadata": {},
   "source": [
    "Формирование мешка слов по героям\n"
   ]
  },
  {
   "cell_type": "code",
   "execution_count": 71,
   "metadata": {},
   "outputs": [],
   "source": [
    "def get_bow_data(in_data):\n",
    "    x_pick = np.zeros((in_data.shape[0], 112))\n",
    "    for i, match_id in enumerate(in_data.index):\n",
    "        for p in range(5):\n",
    "            x_pick[i, in_data.loc[match_id, 'r%d_hero' % (p+1)]-1] = 1\n",
    "            x_pick[i, in_data.loc[match_id, 'd%d_hero' % (p+1)]-1] = -1\n",
    "    bow_data = pandas.DataFrame(x_pick, index=in_data.index)\n",
    "    return bow_data"
   ]
  },
  {
   "cell_type": "code",
   "execution_count": 72,
   "metadata": {},
   "outputs": [],
   "source": [
    "bow_train_data = get_bow_data(data)\n",
    "final_x = pandas.concat([x_without_category, bow_train_data], axis=1)\n",
    "scale_x = scaler.fit_transform(final_x)"
   ]
  },
  {
   "cell_type": "code",
   "execution_count": 73,
   "metadata": {},
   "outputs": [
    {
     "name": "stdout",
     "output_type": "stream",
     "text": [
      "\n",
      "C = 1e-05\n",
      "score = [0.71907467 0.71117649 0.71512939 0.71288168 0.71586231]\n",
      "mean = 0.7148249064297479\n",
      "time = 0:00:19.445313\n",
      "\n",
      "C = 0.0001\n",
      "score = [0.74685672 0.74006714 0.74277168 0.74026225 0.74423779]\n",
      "mean = 0.7428391165802382\n",
      "time = 0:00:11.145609\n",
      "\n",
      "C = 0.001\n",
      "score = [0.75515333 0.74931124 0.75181648 0.74901026 0.75305284]\n",
      "mean = 0.751668830891463\n",
      "time = 0:00:20.159905\n",
      "\n",
      "C = 0.01\n",
      "score = [0.75521596 0.74985583 0.75218088 0.74951097 0.75308879]\n",
      "mean = 0.7519704890317176\n",
      "time = 0:00:25.996921\n",
      "\n",
      "C = 0.1\n",
      "score = [0.75513027 0.74989157 0.75213472 0.74953537 0.75293117]\n",
      "mean = 0.7519246209167468\n",
      "time = 0:00:27.231438\n",
      "\n",
      "C = 1.0\n",
      "score = [0.75511969 0.74989604 0.75212742 0.74953884 0.75290574]\n",
      "mean = 0.7519175479357812\n",
      "time = 0:00:29.067192\n",
      "\n",
      "C = 10.0\n",
      "score = [0.75511883 0.74989652 0.75212657 0.74953969 0.75290278]\n",
      "mean = 0.7519168780227994\n",
      "time = 0:00:28.113022\n",
      "\n",
      "C = 100.0\n",
      "score = [0.75511879 0.74989678 0.75212649 0.74953983 0.75290249]\n",
      "mean = 0.7519168758411852\n",
      "time = 0:00:29.064224\n",
      "\n",
      "C = 1000.0\n",
      "score = [0.75511885 0.74989672 0.75212658 0.74953981 0.75290238]\n",
      "mean = 0.7519168694835366\n",
      "time = 0:00:31.210330\n",
      "\n",
      "C = 10000.0\n",
      "score = [0.75511887 0.74989671 0.75212658 0.74953978 0.75290239]\n",
      "mean = 0.7519168694859212\n",
      "time = 0:00:29.464247\n",
      "\n",
      "C = 100000.0\n",
      "score = [0.75511887 0.74989671 0.75212658 0.7495398  0.75290238]\n",
      "mean = 0.7519168694838319\n",
      "time = 0:00:28.929218\n"
     ]
    }
   ],
   "source": [
    "c_parameters, scores = start_logistic_regression(scale_x)"
   ]
  },
  {
   "cell_type": "code",
   "execution_count": 74,
   "metadata": {},
   "outputs": [
    {
     "data": {
      "text/plain": [
       "(0.7519704890317176, 0.01)"
      ]
     },
     "execution_count": 74,
     "metadata": {},
     "output_type": "execute_result"
    }
   ],
   "source": [
    "max(zip(scores, c_parameters))"
   ]
  },
  {
   "cell_type": "markdown",
   "metadata": {},
   "source": [
    "При добавлении \"мешка слов\" по героям значение оценки качесва классификации значительно улучшилось и составило 0.7519704890317176. Это связано с тем, что теперь категориальные признаки используются более разумно, т. к. герои имеют разные характеристики, и некоторые из них выигрывают чаще, чем другие. Наилучшего качества логистическая регрессия с мешком слов по героям достигает при параметре регуляризации C = 0.01.\n"
   ]
  },
  {
   "cell_type": "markdown",
   "metadata": {},
   "source": [
    "Проверка модели на тестовых данных"
   ]
  },
  {
   "cell_type": "code",
   "execution_count": 75,
   "metadata": {},
   "outputs": [],
   "source": [
    "x_test = pandas.read_csv('features_test.csv', index_col='match_id')\n",
    "x_test = x_test.fillna(0)\n",
    "bow_test_data = get_bow_data(x_test)\n",
    "x_test_without_category = remove_category_features(x_test)\n",
    "final_x_test = pandas.concat([x_test_without_category, bow_test_data], axis=1)\n",
    "scale_x_test = scaler.fit_transform(final_x_test)"
   ]
  },
  {
   "cell_type": "code",
   "execution_count": 79,
   "metadata": {},
   "outputs": [
    {
     "name": "stderr",
     "output_type": "stream",
     "text": [
      "C:\\Users\\julia.vasilchenko\\AppData\\Local\\Continuum\\anaconda3\\lib\\site-packages\\sklearn\\linear_model\\logistic.py:432: FutureWarning: Default solver will be changed to 'lbfgs' in 0.22. Specify a solver to silence this warning.\n",
      "  FutureWarning)\n"
     ]
    },
    {
     "name": "stdout",
     "output_type": "stream",
     "text": [
      "max p = 0.996328715925428\n",
      "min p = 0.5000078481322761\n"
     ]
    }
   ],
   "source": [
    "model = LogisticRegression(C=0.01, random_state=241)\n",
    "model.fit(scale_x, y)\n",
    "y_test = model.predict_proba(scale_x_test)\n",
    "p = list(map(lambda v: max(v), y_test))\n",
    "max(p)\n",
    "min(p)\n",
    "print('max p =', max_p)\n",
    "print('min p =', min_p)"
   ]
  },
  {
   "cell_type": "code",
   "execution_count": null,
   "metadata": {},
   "outputs": [],
   "source": []
  }
 ],
 "metadata": {
  "kernelspec": {
   "display_name": "Python 3",
   "language": "python",
   "name": "python3"
  },
  "language_info": {
   "codemirror_mode": {
    "name": "ipython",
    "version": 3
   },
   "file_extension": ".py",
   "mimetype": "text/x-python",
   "name": "python",
   "nbconvert_exporter": "python",
   "pygments_lexer": "ipython3",
   "version": "3.7.1"
  }
 },
 "nbformat": 4,
 "nbformat_minor": 2
}
